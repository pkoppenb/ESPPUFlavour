{
 "cells": [
  {
   "cell_type": "code",
   "execution_count": null,
   "id": "a3677bd5-e7a2-450e-ac64-eda25a5576cc",
   "metadata": {},
   "outputs": [],
   "source": [
    "import matplotlib\n",
    "import matplotlib.pyplot as plt\n",
    "import numpy as np\n",
    "from matplotlib.lines import Line2D\n",
    "from matplotlib.legend_handler import HandlerTuple\n",
    "from iminuit import Minuit"
   ]
  },
  {
   "cell_type": "code",
   "execution_count": null,
   "id": "0feb1c1c-e17a-440b-a889-636a47932d2a",
   "metadata": {},
   "outputs": [],
   "source": [
    "plt.style.use('esppu.mplstyle')\n",
    "plt.rcParams['font.family'] = 'serif'"
   ]
  },
  {
   "cell_type": "markdown",
   "id": "f92e9639-ec9c-4e8a-987e-ee699254a54e",
   "metadata": {},
   "source": [
    "## define all functions for observables"
   ]
  },
  {
   "cell_type": "markdown",
   "id": "e2942120-4565-474c-83c8-bb2aed112c84",
   "metadata": {},
   "source": [
    "### xcp, dx, ycp, dy for B0-> KS pi pi"
   ]
  },
  {
   "cell_type": "code",
   "execution_count": null,
   "id": "02828dca-c280-4605-bc1d-af6af79389ff",
   "metadata": {},
   "outputs": [],
   "source": [
    "def xcp(x, y, qp, phi):\n",
    "    ret = x*np.cos(phi)*(qp+1/qp)\n",
    "    ret += y*np.sin(phi)*(qp-1/qp)\n",
    "    return 0.5*ret"
   ]
  },
  {
   "cell_type": "code",
   "execution_count": null,
   "id": "741c551e-8c57-4b47-91e7-17192dfcef7f",
   "metadata": {},
   "outputs": [],
   "source": [
    "def dx(x, y, qp, phi):\n",
    "    ret = x*np.cos(phi)*(qp-1/qp)\n",
    "    ret += y*np.sin(phi)*(qp+1/qp)\n",
    "    return 0.5*ret"
   ]
  },
  {
   "cell_type": "code",
   "execution_count": null,
   "id": "dc4bec05-8b04-4161-bfe2-aff1da1bdae0",
   "metadata": {},
   "outputs": [],
   "source": [
    "def ycp(x, y, qp, phi):\n",
    "    ret = y*np.cos(phi)*(qp+1/qp)\n",
    "    ret -= x*np.sin(phi)*(qp-1/qp)\n",
    "    return 0.5*ret"
   ]
  },
  {
   "cell_type": "code",
   "execution_count": null,
   "id": "83060a18-38a7-403c-9a23-bb3929d04cd6",
   "metadata": {},
   "outputs": [],
   "source": [
    "def dy(x, y, qp, phi):\n",
    "    ret = y*np.cos(phi)*(qp-1/qp)\n",
    "    ret -= x*np.sin(phi)*(qp+1/qp)\n",
    "    return 0.5*ret"
   ]
  },
  {
   "cell_type": "markdown",
   "id": "b322dc4a-7567-43bb-83dc-f3c57acab532",
   "metadata": {},
   "source": [
    "### AGamma for D0-> hh"
   ]
  },
  {
   "cell_type": "code",
   "execution_count": null,
   "id": "ae5268f3-7585-4bfb-b6c3-378648065171",
   "metadata": {},
   "outputs": [],
   "source": [
    "def agamma(x, y, qp, phi):\n",
    "    ret = y*np.cos(phi)*(qp-1/qp)\n",
    "    ret -= x*np.sin(phi)*(qp+1/qp)\n",
    "    return 0.5*ret"
   ]
  },
  {
   "cell_type": "markdown",
   "id": "68e8ba96-2878-47ac-8ecb-3448aa4b56fe",
   "metadata": {},
   "source": [
    "### xpp2 (x prime plus square), xpm2, ypp, ypm"
   ]
  },
  {
   "cell_type": "code",
   "execution_count": null,
   "id": "5712acfc-caab-4047-b3f6-3c62b1b2f592",
   "metadata": {},
   "outputs": [],
   "source": [
    "def xp(x, y, delta):\n",
    "    return x*np.cos(delta)+y*np.sin(delta)\n",
    "\n",
    "def yp(x, y, delta):\n",
    "    return y*np.cos(delta)-x*np.sin(delta)"
   ]
  },
  {
   "cell_type": "code",
   "execution_count": null,
   "id": "35b383af-6848-48b2-8cc9-18c144bb7133",
   "metadata": {},
   "outputs": [],
   "source": [
    "def xpp2(x,y, qp, phi, delta):\n",
    "    myxp = xp(x,y,delta)\n",
    "    myyp = yp(x,y,delta)\n",
    "\n",
    "    ret = qp*(myxp*np.cos(phi)+myyp*np.sin(phi))\n",
    "    return ret*ret"
   ]
  },
  {
   "cell_type": "code",
   "execution_count": null,
   "id": "4585e102-2a7a-4d4f-b44c-2cf95774a83a",
   "metadata": {},
   "outputs": [],
   "source": [
    "def xpm2(x,y, qp, phi, delta):\n",
    "    myxp = xp(x,y,delta)\n",
    "    myyp = yp(x,y,delta)\n",
    "\n",
    "    ret = (1/qp)*(myxp*np.cos(phi)-myyp*np.sin(phi))\n",
    "    return ret*ret"
   ]
  },
  {
   "cell_type": "code",
   "execution_count": null,
   "id": "f408ed01-ab4b-434f-a0b5-b0f5293fae1b",
   "metadata": {},
   "outputs": [],
   "source": [
    "def ypp(x,y, qp, phi, delta):\n",
    "    myxp = xp(x,y,delta)\n",
    "    myyp = yp(x,y,delta)\n",
    "\n",
    "    ret = qp*(myyp*np.cos(phi)-myxp*np.sin(phi))\n",
    "    return ret"
   ]
  },
  {
   "cell_type": "code",
   "execution_count": null,
   "id": "f5bc6054-7415-49e2-8a13-40cbcc55149b",
   "metadata": {},
   "outputs": [],
   "source": [
    "def ypm(x,y, qp, phi, delta):\n",
    "    myxp = xp(x,y,delta)\n",
    "    myyp = yp(x,y,delta)\n",
    "\n",
    "    ret = (1/qp)*(myyp*np.cos(phi)+myxp*np.sin(phi))\n",
    "    return ret"
   ]
  },
  {
   "cell_type": "markdown",
   "id": "11597ad6-32fe-46d6-9111-474c102aa6f4",
   "metadata": {},
   "source": [
    "## define central values for all parameters"
   ]
  },
  {
   "cell_type": "code",
   "execution_count": null,
   "id": "ecbd219f-50d8-4474-954b-4c8aa5b66da3",
   "metadata": {},
   "outputs": [],
   "source": [
    "x_val = 0.00407\n",
    "y_val = 0.00645\n",
    "qp_val = 1.\n",
    "phi_val = 0. \n",
    "\n",
    "delta_val = np.deg2rad(11.4)"
   ]
  },
  {
   "cell_type": "code",
   "execution_count": null,
   "id": "a4d2381d-5b97-4865-8a11-dd9a71145b0e",
   "metadata": {},
   "outputs": [],
   "source": [
    "xcp_val = xcp(x=x_val, y=y_val, qp=qp_val, phi=phi_val)\n",
    "ycp_val = ycp(x=x_val, y=y_val, qp=qp_val, phi=phi_val) #0.00551\n",
    "dx_val = dx(x=x_val, y=y_val, qp=qp_val, phi=phi_val) #-0.00029\n",
    "dy_val = dy(x=x_val, y=y_val, qp=qp_val, phi=phi_val) #0.00031\n",
    "\n",
    "agamma_val = agamma(x=x_val, y=y_val, qp=qp_val, phi=phi_val) #0.000089\n",
    "\n",
    "xpp2_val = xpp2(x=x_val, y=y_val, qp=qp_val, phi=phi_val, delta=delta_val)\n",
    "xpm2_val = xpm2(x=x_val, y=y_val, qp=qp_val, phi=phi_val, delta=delta_val)\n",
    "ypp_val = ypp(x=x_val, y=y_val, qp=qp_val, phi=phi_val, delta=delta_val)\n",
    "ypm_val = ypm(x=x_val, y=y_val, qp=qp_val, phi=phi_val, delta=delta_val)"
   ]
  },
  {
   "cell_type": "code",
   "execution_count": null,
   "id": "e6f90ccf-df4d-4d5d-8ce6-32c08aac68bc",
   "metadata": {},
   "outputs": [],
   "source": [
    "xcp_err = 0.01*np.sqrt(0.045**2+0.020**2)\n",
    "ycp_err = 0.01*np.sqrt(0.116**2+0.059**2)\n",
    "dx_err = 0.01*np.sqrt(0.018**2+0.001**2)\n",
    "dy_err = 0.01*np.sqrt(0.035**2+0.013**2)\n",
    "agamma_err = 0.000113"
   ]
  },
  {
   "cell_type": "markdown",
   "id": "9522a283-7271-4750-9766-e15a9cdda3ff",
   "metadata": {},
   "source": [
    "def chi2(x, y, qp, phi):\n",
    "    ret = ((xcp(x,y,qp,phi)-xcp_val)/xcp_err)**2\n",
    "    ret += ((ycp(x,y,qp,phi)-ycp_val)/ycp_err)**2\n",
    "    ret += ((dx(x,y,qp,phi)-dx_val)/dx_err)**2\n",
    "    ret += ((dy(x,y,qp,phi)-dy_val)/dy_err)**2\n",
    "\n",
    "    return ret"
   ]
  },
  {
   "cell_type": "markdown",
   "id": "4ceb2e3d-4f35-4a32-8063-cc8127bf283d",
   "metadata": {},
   "source": [
    "minuit = Minuit(chi2, x=0.00407, y=0.00643, qp=1.0, phi=0.0)"
   ]
  },
  {
   "cell_type": "markdown",
   "id": "517f3dc1-49cb-4d78-aae7-abeb8c7603b5",
   "metadata": {},
   "source": [
    "minuit.errordef = Minuit.LEAST_SQUARES"
   ]
  },
  {
   "cell_type": "markdown",
   "id": "9f352ce0-07eb-40bd-8578-2de7101991ff",
   "metadata": {},
   "source": [
    "minuit.migrad()"
   ]
  },
  {
   "cell_type": "markdown",
   "id": "e4a7b85e-d488-480d-a52f-5dc52f3270d4",
   "metadata": {},
   "source": [
    "np.rad2deg(0.04)"
   ]
  },
  {
   "cell_type": "markdown",
   "id": "46bc8a25-db7c-4410-84a3-c4b3fdb0552c",
   "metadata": {},
   "source": [
    "def chi2_agamma(x, y, qp, phi):\n",
    "    ret = ((xcp(x,y,qp,phi)-xcp_val)/xcp_err)**2\n",
    "    ret += ((ycp(x,y,qp,phi)-ycp_val)/ycp_err)**2\n",
    "    ret += ((dx(x,y,qp,phi)-dx_val)/dx_err)**2\n",
    "    ret += ((dy(x,y,qp,phi)-dy_val)/dy_err)**2\n",
    "    ret += ((agamma(x,y,qp,phi)-agamma_val)/agamma_err)**2\n",
    "    \n",
    "    return ret"
   ]
  },
  {
   "cell_type": "markdown",
   "id": "48fcbad8-dfad-41c6-8d6d-89be26c140ad",
   "metadata": {},
   "source": [
    "minuit = Minuit(chi2_agamma, x=0.00407, y=0.00643, qp=1.0, phi=0.0)\n",
    "minuit.errordef = Minuit.LEAST_SQUARES"
   ]
  },
  {
   "cell_type": "markdown",
   "id": "a23daa33-af81-4092-9e3f-5deec2da89e4",
   "metadata": {},
   "source": [
    "minuit.migrad()"
   ]
  },
  {
   "cell_type": "code",
   "execution_count": null,
   "id": "e5c76d2c-64d0-4aae-92d6-97d1ab9993ad",
   "metadata": {},
   "outputs": [],
   "source": [
    "#LHCb arXiv:2208.06512 , SL tag 5.4/fb\n",
    "#3.72 Mio events\n",
    "#bell has 0.17 for x\n",
    "#There is also a measurement with prompt 1.6 Mio and SL 1.0 mio https://arxiv.org/pdf/1903.03074 on 3/fb\n",
    "xcp_err0 = 0.01*np.sqrt(0.045**2+0.020**2)\n",
    "ycp_err0 = 0.01*np.sqrt(0.116**2+0.059**2)\n",
    "dx_err0 = 0.01*np.sqrt(0.018**2+0.001**2)\n",
    "dy_err0 = 0.01*np.sqrt(0.035**2+0.013**2)\n",
    "\n",
    "\n",
    "\n",
    "#LHCb 2105.09889, prompt + B tag, 6/fb\n",
    "agamma_err0 = 0.000113\n",
    "\n",
    "#LHCb 1712.03220v2, prompt tag  5/fb (2011-2016)\n",
    "ypp_err0 = 1e-3*np.sqrt(0.64**2+0.38**2)\n",
    "ypm_err0 = 1e-3*np.sqrt(0.64**2+0.38**2)\n",
    "xpp2_err0 = 1e-3*np.sqrt(0.032**2+0.019**2)\n",
    "xpm2_err0 = 1e-3*np.sqrt(0.033**2+0.020**2)"
   ]
  },
  {
   "cell_type": "code",
   "execution_count": null,
   "id": "f77d01c5-e7ad-4262-a86a-5ffaa1f7245b",
   "metadata": {},
   "outputs": [],
   "source": [
    "def getLHCbPoint(newAGamma_err, newDx_err, newYpp_err,  show=False):\n",
    "    agamma_err = newAGamma_err\n",
    "    \n",
    "    scale = newDx_err/dx_err0\n",
    "    dx_err = scale*dx_err0\n",
    "    dy_err = scale*dy_err0\n",
    "    xcp_err = scale*xcp_err0\n",
    "    ycp_err = scale*ycp_err0\n",
    "\n",
    "    ypp_err = newYpp_err\n",
    "    scale2 = newYpp_err/ypp_err0\n",
    "    ypm_err = scale2*ypm_err0\n",
    "    xpp2_err = scale2*xpp2_err0\n",
    "    xpm2_err = scale2*xpm2_err0\n",
    "    \n",
    "    \n",
    "    def chi2(x, y, qp, phi):\n",
    "        ret = ((xcp(x,y,qp,phi)-xcp_val)/xcp_err)**2\n",
    "        ret += ((ycp(x,y,qp,phi)-ycp_val)/ycp_err)**2\n",
    "        ret += ((dx(x,y,qp,phi)-dx_val)/dx_err)**2\n",
    "        ret += ((dy(x,y,qp,phi)-dy_val)/dy_err)**2\n",
    "    \n",
    "        return ret\n",
    "\n",
    "    def chi2_agamma(x, y, qp, phi):\n",
    "        ret = chi2(x, y, qp, phi)\n",
    "        ret += ((agamma(x,y,qp,phi)-agamma_val)/agamma_err)**2\n",
    "    \n",
    "        return ret\n",
    "\n",
    "    def chi2_agamma_Kpi(x, y, qp, phi, delta):\n",
    "        ret = chi2_agamma(x, y, qp, phi)\n",
    "        #ret = 0.\n",
    "        #print(\"COUCOU: \", ret)\n",
    "        ret += ((xpp2(x, y, qp, phi, delta)-xpp2_val)/xpp2_err)**2\n",
    "        ret += ((xpm2(x, y, qp, phi, delta)-xpm2_val)/xpm2_err)**2\n",
    "        ret += ((ypp(x, y, qp, phi, delta)-ypp_val)/ypp_err)**2\n",
    "        ret += ((ypm(x, y, qp, phi, delta)-ypm_val)/ypm_err)**2\n",
    "        #print(\"blibli: \", ret)\n",
    "        \n",
    "        return ret\n",
    "\n",
    "    minuit = Minuit(chi2, x=0.00407, y=0.00643, qp=1.0, phi=0.0)\n",
    "    minuit.errordef = Minuit.LEAST_SQUARES\n",
    "    minuit.migrad()\n",
    "    if show: print(minuit)\n",
    "\n",
    "    phi_err1 = np.rad2deg(minuit.errors[\"phi\"])\n",
    "    qp_err1 = minuit.errors[\"qp\"]\n",
    "\n",
    "    minuit = Minuit(chi2_agamma, x=0.00407, y=0.00643, qp=1.0, phi=0.0)\n",
    "    minuit.errordef = Minuit.LEAST_SQUARES\n",
    "    minuit.migrad()\n",
    "    if show: print(minuit)\n",
    "\n",
    "    phi_err2 = np.rad2deg(minuit.errors[\"phi\"])\n",
    "    qp_err2 = minuit.errors[\"qp\"]\n",
    "\n",
    "    minuit = Minuit(chi2_agamma_Kpi, x=0.00407, y=0.00643, qp=1.0, phi=0.0, delta=delta_val)\n",
    "    minuit.errordef = Minuit.LEAST_SQUARES\n",
    "    minuit.migrad()\n",
    "    #minuit.fixed[\"delta\"] = True\n",
    "    if show: print(minuit)\n",
    "\n",
    "    phi_err3 = np.rad2deg(minuit.errors[\"phi\"])\n",
    "    qp_err3 = minuit.errors[\"qp\"]\n",
    "\n",
    "    return phi_err1, qp_err1, phi_err2, qp_err2, phi_err3, qp_err3"
   ]
  },
  {
   "cell_type": "code",
   "execution_count": null,
   "id": "ef0c667b-90bb-4a51-8930-abb9f28a50b7",
   "metadata": {},
   "outputs": [],
   "source": [
    "def makeplot(title,\n",
    "             lhcb_d=None, lhcb_p=None, lhcb_p_ag=None, lhcb_p_agkpi=None,\n",
    "             belle2_d=None, belle2_p=None, belle2_p_ag=None, belle2_p_agkpi=None,\n",
    "             fcc_d=None, fcc_p=None, fcc_p_ag=None, fcc_p_agkpi=None,\n",
    "             stcf_d=None, stcf_p=None,\n",
    "             theo=None,\n",
    "             savename=None, \n",
    "            wantlog=True,\n",
    "             ylim=None,\n",
    "            legend=True): \n",
    "    plt.figure(figsize=(1.25*2.5,1.25*2))\n",
    "    ax = plt.gca()\n",
    "\n",
    "    handles = []\n",
    "    labels = []\n",
    "    \n",
    "    if lhcb_d is not None and lhcb_p is not None:\n",
    "        l1, = plt.plot(lhcb_d, 1e0*lhcb_p, \"o\", label=\"LHC\", color=\"C0\")\n",
    "        #handles.append(l1)\n",
    "        #labels.append(\"LHC: $\\\\Delta x$\")\n",
    "    \n",
    "    if lhcb_p_ag is not None and lhcb_d is not None:\n",
    "        l2, = plt.plot(lhcb_d, 1e0*lhcb_p_ag, \"*\", label=\"LHC\", color=\"C0\")\n",
    "        #handles.append(l2)\n",
    "        #labels.append(\"LHC: $\\\\Delta x$+$A\\\\Gamma$\")\n",
    "\n",
    "    if lhcb_p_agkpi is not None and lhcb_d is not None:\n",
    "        l2, = plt.plot(lhcb_d, 1e0*lhcb_p_agkpi, \".\", label=\"LHC\", color=\"C0\")\n",
    "        #handles.append(l2)\n",
    "        #labels.append(\"LHC: $\\\\Delta x$+$A\\\\Gamma$+$K\\pi$\")\n",
    "\n",
    "    if fcc_d is not None and fcc_p is not None:\n",
    "        l3, = plt.plot(fcc_d, 1e0*fcc_p, \"o\", label=\"FCC-ee\", color=\"C1\")\n",
    "        #handles.append(l3)\n",
    "        #labels.append(\"Tera-Z: $\\\\Delta x$\")\n",
    "        l3b, = plt.plot(fcc_d, np.sqrt(6/1.4)*fcc_p, \"o\", label=\"LEP3\", color=\"C4\")\n",
    "        \n",
    "    if fcc_d is not None and fcc_p_ag is not None:\n",
    "        l4, = plt.plot(fcc_d, 1e0*fcc_p_ag, \"*\", label=\"FCC-ee\", color=\"C1\")\n",
    "        l4b, = plt.plot(fcc_d, np.sqrt(6/1.4)*fcc_p_ag, \"*\", label=\"LEP\", color=\"C4\")\n",
    "        #handles.append(l4)\n",
    "        #labels.append(\"FCC-ee\")#(\"$6\\\\times10^{12}\\,{\\\\rm Z}^0$\")#: $\\\\Delta x$+$A\\\\Gamma$+$K\\pi$\")\n",
    "        #handles.append(l4b)\n",
    "        #labels.append(\"LEP3\")#(\"$2\\\\times10^{12}\\,{\\\\rm Z}^0$\")\n",
    "\n",
    "    if fcc_d is not None and fcc_p_agkpi is not None:\n",
    "        l4, = plt.plot(fcc_d, 1e0*fcc_p_agkpi, \".\", label=\"FCC-ee\", color=\"C1\")\n",
    "        l4b, = plt.plot(fcc_d, np.sqrt(6/1.4)*fcc_p_agkpi, \".\", label=\"LEP\", color=\"C4\")\n",
    "        #handles.append(l4)\n",
    "        #labels.append(\"FCC-ee\")#(\"$6\\\\times10^{12}\\,{\\\\rm Z}^0$\")#: $\\\\Delta x$+$A\\\\Gamma$+$K\\pi$\")\n",
    "        #handles.append(l4b)\n",
    "        #labels.append(\"LEP3\")#(\"$2\\\\times10^{12}\\,{\\\\rm Z}^0$\")\n",
    "        \n",
    "    if belle2_d is not None and belle2_p is not None:\n",
    "        l5, = plt.plot(belle2_d, 1e0*belle2_p, \"o\", label=\"Belle II\", color=\"C2\")\n",
    "        #handles.append(l5)\n",
    "        #labels.append(\"Belle II: $\\\\Delta x$\")\n",
    "\n",
    "    if belle2_p_ag is not None and belle2_d is not None:\n",
    "        l2, = plt.plot(lhcb_d, 1e0*belle2_p_ag, \"*\", label=\"Belle II\", color=\"C2\")\n",
    "        #handles.append(l2)\n",
    "        #labels.append(\"Belle II\")\n",
    "\n",
    "    if belle2_p_agkpi is not None and belle2_d is not None:\n",
    "        l2, = plt.plot(belle2_d, 1e0*belle2_p_agkpi, \".\", label=\"Belle II\", color=\"C2\")\n",
    "        #handles.append(l2)\n",
    "        #labels.append(\"Belle II\")#: $\\\\Delta x$+$A\\\\Gamma$+$K\\pi$\")\n",
    "\n",
    "    if stcf_d is not None and stcf_p is not None:\n",
    "        l6, = plt.plot(stcf_d, 1e0*stcf_p, \">\", label=\"Belle II\", color=\"C3\")\n",
    "        #handles.append(l6)\n",
    "        #labels.append(\"STCF $5\\,{\\\\rm ab}^{-1}$\")\n",
    "    \n",
    "    if theo is not None:\n",
    "        l, = plt.axhline(theo, ls=\"--\", label=\"SM\")\n",
    "        \n",
    "     \n",
    "    #if legend: plt.legend()\n",
    "    #plt.xlabel(\"year\")\n",
    "    #plt.title(title)# $[10^{-5}]$\")\n",
    "    plt.ylabel(title)\n",
    "    \n",
    "    \n",
    "    \n",
    "    plt.xticks(ticks=[0, 1, 2, 3], labels=[\"today\", \"2030s\", \"2040s\", \"2050s\"])\n",
    "    \n",
    "    if wantlog: plt.semilogy()\n",
    "    if ylim is not None: plt.ylim(ylim)\n",
    "    plt.tight_layout()\n",
    "\n",
    "    #ax.text(0.98, 0.98, \"ESPP26\\npreliminary\",\n",
    "    #transform=ax.transAxes,  # axes coordinates\n",
    "    #ha='right', va='top',\n",
    "    #fontsize=8,              # smaller font\n",
    "    #bbox=dict(facecolor='white', edgecolor='none', alpha=0.8, pad=2))\n",
    "    \n",
    "    \n",
    "\n",
    "    #fill up the legend\n",
    "\n",
    "    if lhcb_d is not None:\n",
    "        handle = (Line2D([0], [0], marker='o', linestyle='', color='C0'),\n",
    "                  Line2D([0], [0], marker='*', linestyle='', color='C0'))\n",
    "        handles.append(handle)\n",
    "        labels.append(\"LHC\")\n",
    "\n",
    "    if belle2_d is not None: \n",
    "        handle = (Line2D([0], [0], marker='o', linestyle='', color='C2'),\n",
    "                  Line2D([0], [0], marker='*', linestyle='', color='C2'))\n",
    "        handles.append(handle)\n",
    "        labels.append(\"Belle II\")\n",
    "\n",
    "    if fcc_d is not None:\n",
    "        handle = (Line2D([0], [0], marker='o', linestyle='', color='C1'),\n",
    "                  Line2D([0], [0], marker='*', linestyle='', color='C1'))\n",
    "        handles.append(handle)\n",
    "        labels.append(\"FCC-ee\")\n",
    "\n",
    "    if fcc_d is not None:\n",
    "        handle = (Line2D([0], [0], marker='o', linestyle='', color='C4'),\n",
    "                  Line2D([0], [0], marker='*', linestyle='', color='C4'))\n",
    "        handles.append(handle)\n",
    "        labels.append(\"LEP3\")\n",
    "\n",
    "    if stcf_d is not None:\n",
    "        handle = (Line2D([0], [0], marker='<', linestyle='', color='C3'))\n",
    "        handles.append(handle)\n",
    "        labels.append(\"STCF\")# \\n $(5\\,{\\\\rm ab}^{-1})$\")\n",
    "\n",
    "\n",
    "    plt.xlim(-0.3, 3.3)\n",
    "\n",
    "    if legend:\n",
    "        plt.legend(handles=handles, labels=labels, \n",
    "                          handler_map={tuple: HandlerTuple(ndivide=None)},\n",
    "                          loc='upper right', fontsize=10,\n",
    "                            labelspacing=0.25 )\n",
    "\n",
    "    if savename is not None: plt.savefig(savename)\n",
    "\n",
    "    '''\n",
    "    if legend: #plt.legend()\n",
    "        fig_legend = plt.figure()\n",
    "        # Add the legend to the new figure\n",
    "        # You can adjust parameters like loc and fontsize\n",
    "        fig_legend.legend(handles=handles, labels=labels, \n",
    "                          handler_map={tuple: HandlerTuple(ndivide=None)},\n",
    "                          loc='center', fontsize=12,)\n",
    "        \n",
    "        # Optional: turn off axes in the legend-only figure\n",
    "        fig_legend.gca().axis('off')\n",
    "        \n",
    "        # Show both figures\n",
    "        plt.show()\n",
    "    '''"
   ]
  },
  {
   "cell_type": "markdown",
   "id": "cd9971c4-8fc0-4fe1-aad6-fe9427ed19e0",
   "metadata": {},
   "source": [
    "## Load points for LHCb"
   ]
  },
  {
   "cell_type": "code",
   "execution_count": null,
   "id": "498d883a-b968-4953-977d-d07c235199a5",
   "metadata": {},
   "outputs": [],
   "source": [
    "lhcb_d = np.array([0, 1, 2])"
   ]
  },
  {
   "cell_type": "code",
   "execution_count": null,
   "id": "b55480d6-4df4-4ccb-9ecd-be79ece17683",
   "metadata": {},
   "outputs": [],
   "source": [
    "qp_lhcb = []\n",
    "qp_ag_lhcb = []\n",
    "phi_lhcb = []\n",
    "phi_ag_lhcb = []\n",
    "phi_ag_kpi_lhcb = []\n",
    "qp_ag_kpi_lhcb = []"
   ]
  },
  {
   "cell_type": "code",
   "execution_count": null,
   "id": "6115c77f-56f1-471c-9991-4fcc0cc00af1",
   "metadata": {},
   "outputs": [],
   "source": [
    "ret = getLHCbPoint(11e-5, 18e-5, ypp_err0, show=True)\n",
    "\n",
    "phi_lhcb.append(ret[0])\n",
    "qp_lhcb.append(ret[1])\n",
    "phi_ag_lhcb.append(ret[2])\n",
    "qp_ag_lhcb.append(ret[3])\n",
    "phi_ag_kpi_lhcb.append(ret[4])\n",
    "qp_ag_kpi_lhcb.append(ret[5])"
   ]
  },
  {
   "cell_type": "code",
   "execution_count": null,
   "id": "fb91d910-91c4-444c-94af-b47bc51d3090",
   "metadata": {},
   "outputs": [],
   "source": [
    "#scale AGamma, delta-x using key measurements, use the lumi for B-> Kpi\n",
    "ret = getLHCbPoint(3.2e-5, 4.1e-5, newYpp_err=np.sqrt(25/0.72)*ypp_err0)\n",
    "\n",
    "phi_lhcb.append(ret[0])\n",
    "qp_lhcb.append(ret[1])\n",
    "phi_ag_lhcb.append(ret[2])\n",
    "qp_ag_lhcb.append(ret[3])\n",
    "phi_ag_kpi_lhcb.append(ret[4])\n",
    "qp_ag_kpi_lhcb.append(ret[5])"
   ]
  },
  {
   "cell_type": "code",
   "execution_count": null,
   "id": "74a2c93e-f748-4369-a2e5-1c550b5fec9f",
   "metadata": {},
   "outputs": [],
   "source": [
    "ret = getLHCbPoint(1.2e-5, 1.6e-5, newYpp_err=np.sqrt(170/0.72)*ypp_err0,\n",
    "                  show=True)\n",
    "\n",
    "phi_lhcb.append(ret[0])\n",
    "qp_lhcb.append(ret[1])\n",
    "phi_ag_lhcb.append(ret[2])\n",
    "qp_ag_lhcb.append(ret[3])\n",
    "phi_ag_kpi_lhcb.append(ret[4])\n",
    "qp_ag_kpi_lhcb.append(ret[5])"
   ]
  },
  {
   "cell_type": "code",
   "execution_count": null,
   "id": "cf21bea1-b7a4-493f-a33b-bb26d90ae0fb",
   "metadata": {},
   "outputs": [],
   "source": [
    "np.rad2deg(0.0019)"
   ]
  },
  {
   "cell_type": "code",
   "execution_count": null,
   "id": "56bbf9bb-d0b1-4c2f-9dca-321e6abd0a78",
   "metadata": {},
   "outputs": [],
   "source": [
    "qp_lhcb = np.array(qp_lhcb)\n",
    "qp_ag_lhcb = np.array(qp_ag_lhcb)\n",
    "phi_lhcb = np.array(phi_lhcb)\n",
    "phi_ag_lhcb = np.array(phi_ag_lhcb)\n",
    "phi_ag_kpi_lhcb = np.array(phi_ag_kpi_lhcb)\n",
    "qp_ag_kpi_lhcb = np.array(qp_ag_kpi_lhcb)"
   ]
  },
  {
   "cell_type": "code",
   "execution_count": null,
   "id": "a699b00f-63be-402b-b823-b5c499d06462",
   "metadata": {},
   "outputs": [],
   "source": [
    "makeplot(\"$|q/p|$\",\n",
    "         lhcb_d=lhcb_d,\n",
    "         lhcb_p=qp_lhcb,\n",
    "         lhcb_p_ag=qp_ag_lhcb,\n",
    "            lhcb_p_agkpi = qp_ag_kpi_lhcb,\n",
    "        legend=False)\n",
    "\n",
    "makeplot(\"$|\\phi|$\",\n",
    "         lhcb_d=lhcb_d,\n",
    "         lhcb_p=phi_lhcb,\n",
    "         lhcb_p_ag=phi_ag_lhcb,\n",
    "            lhcb_p_agkpi = phi_ag_kpi_lhcb,\n",
    "        legend=False)"
   ]
  },
  {
   "cell_type": "markdown",
   "id": "91bcb9f3-11dd-4513-96eb-340fcee150e4",
   "metadata": {},
   "source": [
    "## Load Belle II data"
   ]
  },
  {
   "cell_type": "code",
   "execution_count": null,
   "id": "7334ff69-95ad-46f1-8827-b43c2b6f68f6",
   "metadata": {},
   "outputs": [],
   "source": [
    "\n",
    "#Belle 0.976/ab 1509.08266 D0-> KK, pipi\n",
    "agamma_err0 =  0.01*np.sqrt(0.20**2 + 0.07**2) \n",
    "\n",
    "#Belle, 1.36/ab . Errors on dy, dx just multpliy np.sqrt(2)/2  arXiv:2410.22961.\n",
    "#This results in an error on 8 deg for phi, 0.15 for qp, which is quite close to \n",
    "#this measurement https://arxiv.org/abs/1404.2412 with 0.9 with full Belle data , 0.2 qp, 13 deg for phi\n",
    "ycp_err0 = 1e-3*np.sqrt(1.7**2+0.4**2)\n",
    "xcp_err0 = 1e-3*np.sqrt(1.4**2+0.3**2)\n",
    "dy_err0 = 0.707*ycp_err0\n",
    "dx_err0 = 0.707*xcp_err0\n",
    "\n",
    "\n",
    "#Belle https://arxiv.org/abs/hep-ex/0601029 0.4/ab\n",
    "ypp_err0 = 1e-2*0.58\n",
    "ypm_err0 = 1e-2*0.54\n",
    "xpp2_err0 = 1e-2*0.037\n",
    "xpm2_err0 = 1e-2*0.034"
   ]
  },
  {
   "cell_type": "markdown",
   "id": "39bde4d6-a952-4007-8da4-a58c265a28cb",
   "metadata": {},
   "source": [
    "Adding KS pi pi pi0 : there is  744509 events in 0.966/ab https://arxiv.org/abs/1703.05721\n",
    "There are 0.96*2.05e6 mio events in 1.36/ab of data from the common Belle + Belle II ana. So adding BtoKSpi0 add:"
   ]
  },
  {
   "cell_type": "code",
   "execution_count": null,
   "id": "405a9142-5920-4c3e-a7a8-2a7bc4b58803",
   "metadata": {},
   "outputs": [],
   "source": [
    "n0=0.96*2.05e6\n",
    "KSpipipi0scale = (744509/0.966 + n0/1.36)/(n0/1.36)\n",
    "print(KSpipipi0scale)"
   ]
  },
  {
   "cell_type": "code",
   "execution_count": null,
   "id": "b96ecef4-94d3-4d4e-af3d-04a62cc72eb5",
   "metadata": {},
   "outputs": [],
   "source": [
    "b2_d = np.array([0, 1, 2])\n",
    "\n",
    "qp_b2 = []\n",
    "qp_ag_b2 = []\n",
    "phi_b2 = []\n",
    "phi_ag_b2 = []\n",
    "phi_ag_kpi_b2 = []\n",
    "qp_ag_kpi_b2 = []"
   ]
  },
  {
   "cell_type": "code",
   "execution_count": null,
   "id": "8c2d2594-0d2d-49d2-9d7f-725ee1980edd",
   "metadata": {},
   "outputs": [],
   "source": [
    "#Today\n",
    "ret = getLHCbPoint(agamma_err0, dx_err0, ypp_err0, show=True)\n",
    "\n",
    "phi_b2.append(ret[0])\n",
    "qp_b2.append(ret[1])\n",
    "phi_ag_b2.append(ret[2])\n",
    "qp_ag_b2.append(ret[3])\n",
    "phi_ag_kpi_b2.append(ret[4])\n",
    "qp_ag_kpi_b2.append(ret[5])\n"
   ]
  },
  {
   "cell_type": "code",
   "execution_count": null,
   "id": "82456ae6-c5b2-4568-90c6-9fcc4661d388",
   "metadata": {},
   "outputs": [],
   "source": [
    "#10/ab\n",
    "ret = getLHCbPoint(agamma_err0/np.sqrt(10/0.976), dx_err0/np.sqrt(KSpipipi0scale*10/1.36), ypp_err0/np.sqrt(10/0.4))# show=True)\n",
    "\n",
    "phi_b2.append(ret[0])\n",
    "qp_b2.append(ret[1])\n",
    "phi_ag_b2.append(ret[2])\n",
    "qp_ag_b2.append(ret[3])\n",
    "phi_ag_kpi_b2.append(ret[4])\n",
    "qp_ag_kpi_b2.append(ret[5])"
   ]
  },
  {
   "cell_type": "code",
   "execution_count": null,
   "id": "c79a590a-4086-4650-b502-5247b0f3c72c",
   "metadata": {},
   "outputs": [],
   "source": [
    "print(KSpipipi0scale)\n",
    "print(dx_err0/np.sqrt(KSpipipi0scale*50/1.36))\n",
    "print(dx_err0/np.sqrt(50/1.36))\n",
    "print(40e-5*0.7)"
   ]
  },
  {
   "cell_type": "code",
   "execution_count": null,
   "id": "2b323006-caf5-4812-9943-58cd9d90b36c",
   "metadata": {},
   "outputs": [],
   "source": [
    "#50/ab\n",
    "ret = getLHCbPoint(agamma_err0/np.sqrt(50/0.976), \n",
    "                   dx_err0/np.sqrt(KSpipipi0scale*50/1.36), \n",
    "                   ypp_err0/np.sqrt(50/0.4), show=True)\n",
    "\n",
    "phi_b2.append(ret[0])\n",
    "qp_b2.append(ret[1])\n",
    "phi_ag_b2.append(ret[2])\n",
    "qp_ag_b2.append(ret[3])\n",
    "phi_ag_kpi_b2.append(ret[4])\n",
    "qp_ag_kpi_b2.append(ret[5])"
   ]
  },
  {
   "cell_type": "code",
   "execution_count": null,
   "id": "c2b87480-0c90-4f72-9949-8c237bed23ae",
   "metadata": {},
   "outputs": [],
   "source": [
    "qp_b2 = np.array(qp_b2)\n",
    "qp_ag_b2 = np.array(qp_ag_b2)\n",
    "phi_b2 = np.array(phi_b2)\n",
    "phi_ag_b2 = np.array(phi_ag_b2)\n",
    "phi_ag_kpi_b2 = np.array(phi_ag_kpi_b2)\n",
    "qp_ag_kpi_b2 = np.array(qp_ag_kpi_b2)"
   ]
  },
  {
   "cell_type": "code",
   "execution_count": null,
   "id": "3d3e14e8-c64e-40af-b24a-7b58b10a98d6",
   "metadata": {},
   "outputs": [],
   "source": [
    "makeplot(\"$|q/p|$\",\n",
    "         lhcb_d=lhcb_d,\n",
    "         lhcb_p=qp_lhcb,\n",
    "         lhcb_p_ag=qp_ag_lhcb,\n",
    "            lhcb_p_agkpi = qp_ag_kpi_lhcb,\n",
    "         belle2_d=b2_d, belle2_p_ag=qp_ag_b2, belle2_p=qp_b2, belle2_p_agkpi=qp_ag_kpi_b2,\n",
    "        legend=False)\n",
    "\n",
    "makeplot(\"$\\phi$\",\n",
    "         lhcb_d=lhcb_d,\n",
    "         lhcb_p=phi_lhcb,\n",
    "         lhcb_p_ag=phi_ag_lhcb,\n",
    "            lhcb_p_agkpi = phi_ag_kpi_lhcb,\n",
    "         belle2_d=b2_d, belle2_p_ag=phi_ag_b2, belle2_p=phi_b2, belle2_p_agkpi=phi_ag_kpi_b2,\n",
    "        legend=False)"
   ]
  },
  {
   "cell_type": "markdown",
   "id": "add24f39-aedc-402e-bf14-e30bc61c8ae3",
   "metadata": {},
   "source": [
    "## Load FCC-ee numbers"
   ]
  },
  {
   "cell_type": "code",
   "execution_count": null,
   "id": "ba98e9c5-25cd-440b-8ce1-d3e0448621e5",
   "metadata": {},
   "outputs": [],
   "source": [
    "#error on dx scaling from LHCb event number\n",
    "print(0.01*np.sqrt(0.018**2+0.001**2)/np.sqrt((6800/3.72)))\n",
    "\n",
    "xcp_err0 = 1e-3*np.sqrt(1.4**2+0.3**2)\n",
    "dx_err0 = 0.707*xcp_err0\n",
    "\n",
    "print(dx_err0/np.sqrt(6800/2))"
   ]
  },
  {
   "cell_type": "code",
   "execution_count": null,
   "id": "4c883ac6-7e2d-4d67-95ed-3228c4a3f121",
   "metadata": {},
   "outputs": [],
   "source": [
    "\n",
    "#scale LHCb arXiv:2208.06512 , SL tag 5.4/fb with 3.72 M events\n",
    "\"\"\"\n",
    "scale = 1/np.sqrt((6800/3.72))\n",
    "xcp_err0 = scale*0.01*np.sqrt(0.148**2+0.026**2)\n",
    "ycp_err0 = scale*0.01*np.sqrt(0.312**2+0.083**2)\n",
    "dx_err0 = scale*0.01*np.sqrt(0.093**2+0.028**2)\n",
    "dy_err0 = scale*0.01*np.sqrt(0.192**2+0.026**2)\n",
    "\n",
    "#scale LHCb https://arxiv.org/abs/1903.03074, SL prompt tag 2.3 mio events\n",
    "scale = 1/np.sqrt((6800/2.3))\n",
    "xcp_err0 = scale*0.01*np.sqrt(0.16**2+0.030**2)\n",
    "ycp_err0 = scale*0.01*np.sqrt(0.36**2+0.11**2)\n",
    "dx_err0 = scale*0.01*np.sqrt(0.070**2+0.022**2)\n",
    "dy_err0 = scale*0.01*np.sqrt(0.16**2+0.03**2)\n",
    "\"\"\"\n",
    "\n",
    "#scale properly: https://arxiv.org/abs/2106.03744 Dstr tag with 30.6 mio decays\n",
    "scale = 1/np.sqrt((6400/30.6))\n",
    "xcp_err0 = scale*0.01*np.sqrt(0.046**2+0.029**2)\n",
    "ycp_err0 = scale*0.01*np.sqrt(0.120**2+0.085**2)\n",
    "dx_err0 = scale*0.01*np.sqrt(0.018**2+0.001**2)\n",
    "dy_err0 = scale*0.01*np.sqrt(0.036**2+0.013**2)\n",
    "\n",
    "\n",
    "#LHCb 2105.09889, prompt + B tag, 6/fb: 76 mio KK+pi pi events\n",
    "#scale        \n",
    "agamma_err0 = 0.000113/np.sqrt(800/76)\n",
    "\n",
    "#LHCb 1712.03220v2, prompt tag  5/fb (2011-2016) 722e5 WS decays\n",
    "\n",
    "#Yield of B-> K pi DCS, and then scale to LHCb \n",
    "scale = 1/np.sqrt(22/0.722)\n",
    "           \n",
    "ypp_err0 = scale*1e-3*np.sqrt(0.64**2+0.38**2)\n",
    "ypm_err0 = scale*1e-3*np.sqrt(0.64**2+0.38**2)\n",
    "xpp2_err0 = scale*1e-3*np.sqrt(0.032**2+0.019**2)\n",
    "xpm2_err0 = scale*1e-3*np.sqrt(0.033**2+0.020**2)"
   ]
  },
  {
   "cell_type": "code",
   "execution_count": null,
   "id": "a5a55e4e-9d4f-4c14-a816-a1bd45e35831",
   "metadata": {},
   "outputs": [],
   "source": [
    "ret = getLHCbPoint(agamma_err0, dx_err0, ypp_err0, show=True)"
   ]
  },
  {
   "cell_type": "code",
   "execution_count": null,
   "id": "fcedca58-9f48-4a1b-8680-81b82416ead9",
   "metadata": {},
   "outputs": [],
   "source": [
    "np.rad2deg(0.0019 )"
   ]
  },
  {
   "cell_type": "code",
   "execution_count": null,
   "id": "07a65c8e-5710-486b-880d-af8e9776df2c",
   "metadata": {},
   "outputs": [],
   "source": [
    "fcc_d = np.array([3])\n",
    "phi_fcc = np.array([ret[0]])\n",
    "qp_fcc = np.array([ret[1]])\n",
    "phi_ag_fcc = np.array([ret[2]])\n",
    "qp_ag_fcc = np.array([ret[3]])\n",
    "phi_agkpi_fcc = np.array([ret[4]])\n",
    "qp_agkpi_fcc = np.array([ret[5]])"
   ]
  },
  {
   "cell_type": "code",
   "execution_count": null,
   "id": "d240f0ce-a4a3-40b1-ba1d-30a24d3d9d28",
   "metadata": {},
   "outputs": [],
   "source": [
    "makeplot(\"$|q/p|$\",\n",
    "         lhcb_d=lhcb_d,\n",
    "         lhcb_p=qp_lhcb,\n",
    "         lhcb_p_ag=qp_ag_lhcb,\n",
    "            lhcb_p_agkpi = qp_ag_kpi_lhcb,\n",
    "         belle2_d=b2_d, belle2_p_ag=qp_ag_b2, belle2_p=qp_b2, belle2_p_agkpi=qp_ag_kpi_b2,\n",
    "         fcc_d=fcc_d, fcc_p_ag=qp_ag_fcc, fcc_p_agkpi=qp_agkpi_fcc, fcc_p=qp_fcc,\n",
    "        legend=False)\n",
    "\n",
    "makeplot(\"$\\phi$\",\n",
    "         lhcb_d=lhcb_d,\n",
    "         lhcb_p=phi_lhcb,\n",
    "         lhcb_p_ag=phi_ag_lhcb,\n",
    "            lhcb_p_agkpi = phi_ag_kpi_lhcb,\n",
    "         belle2_d=b2_d, belle2_p_ag=phi_ag_b2, belle2_p=phi_b2, belle2_p_agkpi=phi_ag_kpi_b2,\n",
    "         fcc_d=fcc_d, fcc_p_ag=phi_ag_fcc, fcc_p_agkpi=phi_agkpi_fcc, fcc_p=phi_fcc,\n",
    "        legend=True)"
   ]
  },
  {
   "cell_type": "markdown",
   "id": "71b8e252-791b-403f-b7a3-3b0f966f6c13",
   "metadata": {},
   "source": [
    "## Load STCF numbers"
   ]
  },
  {
   "cell_type": "markdown",
   "id": "ed70838c-9243-46ae-97f6-0774c60f5fdf",
   "metadata": {},
   "source": [
    "stcf_d = np.array([2,3])\n",
    "qp_1ab = 0.2*0.7/3.1\n",
    "phi_1ab = 20*0.5/2.9\n",
    "qp_stcf = np.array([qp_1ab/np.sqrt(10), qp_1ab/np.sqrt(20)]) \n",
    "phi_stcf = np.array([phi_1ab/np.sqrt(10), phi_1ab/np.sqrt(20)])"
   ]
  },
  {
   "cell_type": "code",
   "execution_count": null,
   "id": "887874df-af4d-4aec-8259-01f0b1349893",
   "metadata": {},
   "outputs": [],
   "source": [
    "stcf_d = np.array([3])\n",
    "qp_1ab = 0.026\n",
    "phi_1ab = 2.14\n",
    "qp_stcf = np.array([qp_1ab/np.sqrt(5)])#, qp_1ab/np.sqrt(20)]) \n",
    "phi_stcf = np.array([phi_1ab/np.sqrt(5)])#, phi_1ab/np.sqrt(20)])"
   ]
  },
  {
   "cell_type": "code",
   "execution_count": null,
   "id": "ce54028b-b3c3-4931-a260-bfc8c8aa08be",
   "metadata": {},
   "outputs": [],
   "source": [
    "phi_1ab"
   ]
  },
  {
   "cell_type": "markdown",
   "id": "650b7986-0dbc-4809-91c9-01d063ac0301",
   "metadata": {},
   "source": [
    "## make plot"
   ]
  },
  {
   "cell_type": "code",
   "execution_count": null,
   "id": "9ca623a3-6c8d-49c2-9489-38637e9a77bd",
   "metadata": {},
   "outputs": [],
   "source": [
    "makeplot(\"$\\sigma(|q/p|)$\",\n",
    "         lhcb_d=lhcb_d,\n",
    "         lhcb_p=qp_lhcb,\n",
    "         lhcb_p_ag=qp_ag_lhcb,\n",
    "            #lhcb_p_agkpi = qp_ag_kpi_lhcb,\n",
    "         belle2_d=b2_d, belle2_p_ag=qp_ag_b2, belle2_p=qp_b2, #belle2_p_agkpi=qp_ag_kpi_b2,\n",
    "         fcc_d=fcc_d, fcc_p_ag=qp_ag_fcc, #fcc_p_agkpi=qp_agkpi_fcc, \n",
    "         fcc_p=qp_fcc,\n",
    "         stcf_d=stcf_d, stcf_p=qp_stcf,\n",
    "        legend=True,\n",
    "         ylim=(1e-3, 6e-1),\n",
    "        savename=\"figures/charm_qp.pdf\")\n",
    "\n",
    "makeplot(\"$\\sigma(\\phi)~[^{\\circ}]$\",\n",
    "         lhcb_d=lhcb_d,\n",
    "         lhcb_p=phi_lhcb,\n",
    "         lhcb_p_ag=phi_ag_lhcb,\n",
    "            #lhcb_p_agkpi = phi_ag_kpi_lhcb,\n",
    "         belle2_d=b2_d, belle2_p_ag=phi_ag_b2, belle2_p=phi_b2, #belle2_p_agkpi=phi_ag_kpi_b2,\n",
    "         fcc_d=fcc_d, fcc_p_ag=phi_ag_fcc, #fcc_p_agkpi=phi_agkpi_fcc, \n",
    "         fcc_p=phi_fcc,\n",
    "          stcf_d=stcf_d, stcf_p=phi_stcf,\n",
    "         ylim=(0.8e-1, 40),\n",
    "         savename=\"figures/charm_phi.pdf\",\n",
    "        legend=True)"
   ]
  },
  {
   "cell_type": "code",
   "execution_count": null,
   "id": "39c4a88d-cb80-49c6-8168-eeecd5d16a9a",
   "metadata": {},
   "outputs": [],
   "source": []
  }
 ],
 "metadata": {
  "kernelspec": {
   "display_name": "Python 3 (ipykernel)",
   "language": "python",
   "name": "python3"
  },
  "language_info": {
   "codemirror_mode": {
    "name": "ipython",
    "version": 3
   },
   "file_extension": ".py",
   "mimetype": "text/x-python",
   "name": "python",
   "nbconvert_exporter": "python",
   "pygments_lexer": "ipython3",
   "version": "3.11.10"
  }
 },
 "nbformat": 4,
 "nbformat_minor": 5
}
